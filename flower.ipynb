{
 "cells": [
  {
   "cell_type": "code",
   "execution_count": null,
   "metadata": {},
   "outputs": [],
   "source": [
    "from typing import List, OrderedDict\n",
    "import os\n",
    "\n",
    "import flwr\n",
    "import numpy as np\n",
    "import torch\n",
    "from ultralytics import YOLO"
   ]
  },
  {
   "cell_type": "code",
   "execution_count": null,
   "metadata": {},
   "outputs": [],
   "source": [
    "base_model = YOLO(model=\"runs/detect/train/weights/best.pt\")\n",
    "print(base_model.state_dict())"
   ]
  },
  {
   "cell_type": "code",
   "execution_count": null,
   "metadata": {},
   "outputs": [],
   "source": [
    "def set_parameters(model, parameters: List[np.ndarray]):\n",
    "    params_dict = zip(model.state_dict().keys(), parameters)\n",
    "    state_dict = OrderedDict({k: torch.Tensor(v) for k, v in params_dict})\n",
    "    model.load_state_dict(state_dict, strict=True)"
   ]
  },
  {
   "cell_type": "code",
   "execution_count": null,
   "metadata": {},
   "outputs": [],
   "source": [
    "def get_parameters(model) -> List[np.ndarray]:\n",
    "    return [val.cpu().numpy() for _, val in model.state_dict().items()]"
   ]
  },
  {
   "cell_type": "code",
   "execution_count": null,
   "metadata": {},
   "outputs": [],
   "source": [
    "class YOLOClient(flwr.client.NumPyClient):\n",
    "    def __init__(self, model, dataset):\n",
    "        self.model = model\n",
    "        self.config_path = f\"datasets/{dataset}/config.yaml\"\n",
    "        self.train_size = len(os.listdir(f\"datasets/{dataset}/images/train\"))\n",
    "\n",
    "    def get_parameters(self, config):\n",
    "        return get_parameters(self.model)\n",
    "\n",
    "    def fit(self, parameters, config):\n",
    "        set_parameters(self.model, parameters)\n",
    "        self.model.train(data=self.config_path, epochs=1)\n",
    "        return get_parameters(self.model), self.train_size, {}\n",
    "\n",
    "    def evaluate(self, parameters, config):\n",
    "        set_parameters(self.model, parameters)\n",
    "        metrics = self.model.val()\n",
    "        accuracy = metrics.box.map\n",
    "        loss = 1 - accuracy\n",
    "        return loss, self.train_size, {\"accuracy\": accuracy}"
   ]
  },
  {
   "cell_type": "code",
   "execution_count": null,
   "metadata": {},
   "outputs": [],
   "source": [
    "datasets = [\"citypersons\", \"roadsigns\"]\n",
    "\n",
    "def client_fn(cid: str) -> YOLOClient:\n",
    "    model = base_model\n",
    "    dataset = datasets[int(cid)]\n",
    "    return YOLOClient(model, dataset).to_client()"
   ]
  },
  {
   "cell_type": "code",
   "execution_count": null,
   "metadata": {},
   "outputs": [],
   "source": [
    "strategy = flwr.server.strategy.FedAvg()\n",
    "client_resources = {\"num_cpus\": 1, \"num_gpus\": 1.0}\n",
    "\n",
    "flwr.simulation.start_simulation(\n",
    "    client_fn=client_fn,\n",
    "    num_clients=len(datasets),\n",
    "    config=flwr.server.ServerConfig(num_rounds=1),\n",
    "    strategy=strategy,\n",
    "    client_resources=client_resources,\n",
    ")"
   ]
  },
  {
   "cell_type": "code",
   "execution_count": null,
   "metadata": {},
   "outputs": [],
   "source": [
    "base_model.state_dict()"
   ]
  }
 ],
 "metadata": {
  "kernelspec": {
   "display_name": "base",
   "language": "python",
   "name": "python3"
  },
  "language_info": {
   "codemirror_mode": {
    "name": "ipython",
    "version": 3
   },
   "file_extension": ".py",
   "mimetype": "text/x-python",
   "name": "python",
   "nbconvert_exporter": "python",
   "pygments_lexer": "ipython3",
   "version": "3.11.9"
  }
 },
 "nbformat": 4,
 "nbformat_minor": 2
}
