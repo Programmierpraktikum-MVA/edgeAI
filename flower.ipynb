{
 "cells": [
  {
   "cell_type": "code",
   "execution_count": 1,
   "metadata": {},
   "outputs": [
    {
     "name": "stderr",
     "output_type": "stream",
     "text": [
      "/home/pierre/venvs/flwr/lib/python3.11/site-packages/tqdm/auto.py:21: TqdmWarning: IProgress not found. Please update jupyter and ipywidgets. See https://ipywidgets.readthedocs.io/en/stable/user_install.html\n",
      "  from .autonotebook import tqdm as notebook_tqdm\n",
      "2024-06-16 18:19:36,814\tINFO util.py:154 -- Missing packages: ['ipywidgets']. Run `pip install -U ipywidgets`, then restart the notebook server for rich notebook output.\n"
     ]
    }
   ],
   "source": [
    "from typing import List, OrderedDict\n",
    "import os\n",
    "\n",
    "import flwr\n",
    "import numpy as np\n",
    "import torch\n",
    "from ultralytics import YOLO"
   ]
  },
  {
   "cell_type": "code",
   "execution_count": 2,
   "metadata": {},
   "outputs": [],
   "source": [
    "def set_parameters(model, parameters: List[np.ndarray]):\n",
    "    params_dict = zip(model.state_dict().keys(), parameters)\n",
    "    state_dict = OrderedDict({k: torch.Tensor(v) for k, v in params_dict})\n",
    "    model.load_state_dict(state_dict, strict=True)"
   ]
  },
  {
   "cell_type": "code",
   "execution_count": 3,
   "metadata": {},
   "outputs": [],
   "source": [
    "def get_parameters(model) -> List[np.ndarray]:\n",
    "    return [val.cpu().numpy() for _, val in model.state_dict().items()]"
   ]
  },
  {
   "cell_type": "code",
   "execution_count": 4,
   "metadata": {},
   "outputs": [],
   "source": [
    "class YOLOClient(flwr.client.NumPyClient):\n",
    "    def __init__(self, model, dataset):\n",
    "        self.model = model\n",
    "        self.config_path = f\"datasets/{dataset}/config.yaml\"\n",
    "        self.train_size = len(os.listdir(f\"datasets/{dataset}/images/train\"))\n",
    "\n",
    "    def get_parameters(self, config):\n",
    "        return get_parameters(self.model)\n",
    "\n",
    "    def fit(self, parameters, config):\n",
    "        set_parameters(self.model, parameters)\n",
    "        self.model.train(data=self.config_path, epochs=1)\n",
    "        return get_parameters(self.model), self.train_size, {}\n",
    "\n",
    "    def evaluate(self, parameters, config):\n",
    "        set_parameters(self.model, parameters)\n",
    "        metrics = self.model.val()\n",
    "        loss = metrics.box.loss\n",
    "        accuracy = metrics.results_dict.get(\"metrics/precision(B)\")\n",
    "        return loss, self.train_size, {\"accuracy\": accuracy}"
   ]
  },
  {
   "cell_type": "code",
   "execution_count": 5,
   "metadata": {},
   "outputs": [],
   "source": [
    "datasets = [\"roadsigns\", \"citypersons\"]\n",
    "\n",
    "def client_fn(cid: str) -> YOLOClient:\n",
    "    model = YOLO(model=\"runs/detect/train5/weights/best.pt\")\n",
    "    dataset = datasets[int(cid)]\n",
    "    return YOLOClient(model, dataset).to_client()"
   ]
  },
  {
   "cell_type": "code",
   "execution_count": 6,
   "metadata": {},
   "outputs": [],
   "source": [
    "NUM_CLIENTS = 2\n",
    "BATCH_SIZE = 32"
   ]
  },
  {
   "cell_type": "code",
   "execution_count": 7,
   "metadata": {},
   "outputs": [
    {
     "name": "stderr",
     "output_type": "stream",
     "text": [
      "\u001b[92mINFO \u001b[0m:      Starting Flower simulation, config: num_rounds=1, no round_timeout\n",
      "2024-06-16 18:19:42,718\tINFO worker.py:1752 -- Started a local Ray instance.\n",
      "\u001b[92mINFO \u001b[0m:      Flower VCE: Ray initialized with resources: {'node:__internal_head__': 1.0, 'object_store_memory': 4053002649.0, 'accelerator_type:G': 1.0, 'GPU': 1.0, 'memory': 8106005300.0, 'node:192.168.2.120': 1.0, 'CPU': 12.0}\n",
      "\u001b[92mINFO \u001b[0m:      Optimize your simulation with Flower VCE: https://flower.ai/docs/framework/how-to-run-simulations.html\n",
      "\u001b[92mINFO \u001b[0m:      Flower VCE: Resources for each Virtual Client: {'num_cpus': 1, 'num_gpus': 1.0}\n",
      "\u001b[92mINFO \u001b[0m:      Flower VCE: Creating VirtualClientEngineActorPool with 1 actors\n",
      "\u001b[92mINFO \u001b[0m:      [INIT]\n",
      "\u001b[92mINFO \u001b[0m:      Requesting initial parameters from one random client\n",
      "\u001b[92mINFO \u001b[0m:      Received initial parameters from one random client\n",
      "\u001b[92mINFO \u001b[0m:      Evaluating initial global parameters\n",
      "\u001b[92mINFO \u001b[0m:      \n",
      "\u001b[92mINFO \u001b[0m:      [ROUND 1]\n",
      "\u001b[92mINFO \u001b[0m:      configure_fit: strategy sampled 2 clients (out of 2)\n"
     ]
    },
    {
     "name": "stdout",
     "output_type": "stream",
     "text": [
      "\u001b[36m(ClientAppActor pid=6270)\u001b[0m Ultralytics YOLOv8.2.32 🚀 Python-3.11.9 torch-2.3.1+cu121 CUDA:0 (NVIDIA GeForce RTX 2060, 5919MiB)\n",
      "\u001b[36m(ClientAppActor pid=6270)\u001b[0m \u001b[34m\u001b[1mengine/trainer: \u001b[0mtask=detect, mode=train, model=runs/detect/train5/weights/best.pt, data=datasets/roadsigns/config.yaml, epochs=1, time=None, patience=100, batch=16, imgsz=640, save=True, save_period=-1, cache=False, device=None, workers=8, project=None, name=train10, exist_ok=False, pretrained=True, optimizer=auto, verbose=True, seed=0, deterministic=True, single_cls=False, rect=False, cos_lr=False, close_mosaic=10, resume=False, amp=True, fraction=1.0, profile=False, freeze=None, multi_scale=False, overlap_mask=True, mask_ratio=4, dropout=0.0, val=True, split=val, save_json=False, save_hybrid=False, conf=None, iou=0.7, max_det=300, half=False, dnn=False, plots=True, source=None, vid_stride=1, stream_buffer=False, visualize=False, augment=False, agnostic_nms=False, classes=None, retina_masks=False, embed=None, show=False, save_frames=False, save_txt=False, save_conf=False, save_crop=False, show_labels=True, show_conf=True, show_boxes=True, line_width=None, format=torchscript, keras=False, optimize=False, int8=False, dynamic=False, simplify=False, opset=None, workspace=4, nms=False, lr0=0.01, lrf=0.01, momentum=0.937, weight_decay=0.0005, warmup_epochs=3.0, warmup_momentum=0.8, warmup_bias_lr=0.1, box=7.5, cls=0.5, dfl=1.5, pose=12.0, kobj=1.0, label_smoothing=0.0, nbs=64, hsv_h=0.015, hsv_s=0.7, hsv_v=0.4, degrees=0.0, translate=0.1, scale=0.5, shear=0.0, perspective=0.0, flipud=0.0, fliplr=0.5, bgr=0.0, mosaic=1.0, mixup=0.0, copy_paste=0.0, auto_augment=randaugment, erasing=0.4, crop_fraction=1.0, cfg=None, tracker=botsort.yaml, save_dir=runs/detect/train10\n",
      "\u001b[36m(ClientAppActor pid=6270)\u001b[0m \n",
      "\u001b[36m(ClientAppActor pid=6270)\u001b[0m                    from  n    params  module                                       arguments                     \n",
      "\u001b[36m(ClientAppActor pid=6270)\u001b[0m   0                  -1  1       464  ultralytics.nn.modules.conv.Conv             [3, 16, 3, 2]                 \n",
      "\u001b[36m(ClientAppActor pid=6270)\u001b[0m   1                  -1  1      4672  ultralytics.nn.modules.conv.Conv             [16, 32, 3, 2]                \n",
      "\u001b[36m(ClientAppActor pid=6270)\u001b[0m   2                  -1  1      7360  ultralytics.nn.modules.block.C2f             [32, 32, 1, True]             \n",
      "\u001b[36m(ClientAppActor pid=6270)\u001b[0m   3                  -1  1     18560  ultralytics.nn.modules.conv.Conv             [32, 64, 3, 2]                \n",
      "\u001b[36m(ClientAppActor pid=6270)\u001b[0m   4                  -1  2     49664  ultralytics.nn.modules.block.C2f             [64, 64, 2, True]             \n",
      "\u001b[36m(ClientAppActor pid=6270)\u001b[0m   5                  -1  1     73984  ultralytics.nn.modules.conv.Conv             [64, 128, 3, 2]               \n",
      "\u001b[36m(ClientAppActor pid=6270)\u001b[0m   6                  -1  2    197632  ultralytics.nn.modules.block.C2f             [128, 128, 2, True]           \n",
      "\u001b[36m(ClientAppActor pid=6270)\u001b[0m   7                  -1  1    295424  ultralytics.nn.modules.conv.Conv             [128, 256, 3, 2]              \n",
      "\u001b[36m(ClientAppActor pid=6270)\u001b[0m   8                  -1  1    460288  ultralytics.nn.modules.block.C2f             [256, 256, 1, True]           \n",
      "\u001b[36m(ClientAppActor pid=6270)\u001b[0m   9                  -1  1    164608  ultralytics.nn.modules.block.SPPF            [256, 256, 5]                 \n",
      "\u001b[36m(ClientAppActor pid=6270)\u001b[0m  10                  -1  1         0  torch.nn.modules.upsampling.Upsample         [None, 2, 'nearest']          \n",
      "\u001b[36m(ClientAppActor pid=6270)\u001b[0m  11             [-1, 6]  1         0  ultralytics.nn.modules.conv.Concat           [1]                           \n",
      "\u001b[36m(ClientAppActor pid=6270)\u001b[0m  12                  -1  1    148224  ultralytics.nn.modules.block.C2f             [384, 128, 1]                 \n",
      "\u001b[36m(ClientAppActor pid=6270)\u001b[0m  13                  -1  1         0  torch.nn.modules.upsampling.Upsample         [None, 2, 'nearest']          \n",
      "\u001b[36m(ClientAppActor pid=6270)\u001b[0m  14             [-1, 4]  1         0  ultralytics.nn.modules.conv.Concat           [1]                           \n",
      "\u001b[36m(ClientAppActor pid=6270)\u001b[0m  15                  -1  1     37248  ultralytics.nn.modules.block.C2f             [192, 64, 1]                  \n",
      "\u001b[36m(ClientAppActor pid=6270)\u001b[0m  16                  -1  1     36992  ultralytics.nn.modules.conv.Conv             [64, 64, 3, 2]                \n",
      "\u001b[36m(ClientAppActor pid=6270)\u001b[0m  17            [-1, 12]  1         0  ultralytics.nn.modules.conv.Concat           [1]                           \n",
      "\u001b[36m(ClientAppActor pid=6270)\u001b[0m  18                  -1  1    123648  ultralytics.nn.modules.block.C2f             [192, 128, 1]                 \n",
      "\u001b[36m(ClientAppActor pid=6270)\u001b[0m  19                  -1  1    147712  ultralytics.nn.modules.conv.Conv             [128, 128, 3, 2]              \n",
      "\u001b[36m(ClientAppActor pid=6270)\u001b[0m  20             [-1, 9]  1         0  ultralytics.nn.modules.conv.Concat           [1]                           \n",
      "\u001b[36m(ClientAppActor pid=6270)\u001b[0m  21                  -1  1    493056  ultralytics.nn.modules.block.C2f             [384, 256, 1]                 \n",
      "\u001b[36m(ClientAppActor pid=6270)\u001b[0m  22        [15, 18, 21]  1    754627  ultralytics.nn.modules.head.Detect           [17, [64, 128, 256]]          \n",
      "\u001b[36m(ClientAppActor pid=6270)\u001b[0m Model summary: 225 layers, 3014163 parameters, 3014147 gradients, 8.2 GFLOPs\n",
      "\u001b[36m(ClientAppActor pid=6270)\u001b[0m \n",
      "\u001b[36m(ClientAppActor pid=6270)\u001b[0m Transferred 355/355 items from pretrained weights\n",
      "\u001b[36m(ClientAppActor pid=6270)\u001b[0m Freezing layer 'model.22.dfl.conv.weight'\n",
      "\u001b[36m(ClientAppActor pid=6270)\u001b[0m \u001b[34m\u001b[1mAMP: \u001b[0mrunning Automatic Mixed Precision (AMP) checks with YOLOv8n...\n",
      "\u001b[36m(ClientAppActor pid=6270)\u001b[0m \u001b[34m\u001b[1mAMP: \u001b[0mchecks passed ✅\n"
     ]
    },
    {
     "name": "stderr",
     "output_type": "stream",
     "text": [
      "\u001b[34m\u001b[1mtrain: \u001b[0mScanning /home/pierre/git/newEdge/datasets/roadsigns/labels/train.cache... 693 images, 0 backgrounds, 0 corrupt: 100%|██████████| 693/693 [00:00<?, ?it/s]\n",
      "\u001b[34m\u001b[1mval: \u001b[0mScanning /home/pierre/git/newEdge/datasets/roadsigns/labels/val.cache... 184 images, 0 backgrounds, 0 corrupt: 100%|██████████| 184/184 [00:00<?, ?it/s]\n"
     ]
    },
    {
     "name": "stdout",
     "output_type": "stream",
     "text": [
      "\u001b[36m(ClientAppActor pid=6270)\u001b[0m Plotting labels to runs/detect/train10/labels.jpg... \n",
      "\u001b[36m(ClientAppActor pid=6270)\u001b[0m \u001b[34m\u001b[1moptimizer:\u001b[0m 'optimizer=auto' found, ignoring 'lr0=0.01' and 'momentum=0.937' and determining best 'optimizer', 'lr0' and 'momentum' automatically... \n",
      "\u001b[36m(ClientAppActor pid=6270)\u001b[0m \u001b[34m\u001b[1moptimizer:\u001b[0m AdamW(lr=0.000476, momentum=0.9) with parameter groups 57 weight(decay=0.0), 64 weight(decay=0.0005), 63 bias(decay=0.0)\n",
      "\u001b[36m(ClientAppActor pid=6270)\u001b[0m Image sizes 640 train, 640 val\n",
      "\u001b[36m(ClientAppActor pid=6270)\u001b[0m Using 8 dataloader workers\n",
      "\u001b[36m(ClientAppActor pid=6270)\u001b[0m Logging results to \u001b[1mruns/detect/train10\u001b[0m\n",
      "\u001b[36m(ClientAppActor pid=6270)\u001b[0m Starting training for 1 epochs...\n",
      "\u001b[36m(ClientAppActor pid=6270)\u001b[0m \n",
      "\u001b[36m(ClientAppActor pid=6270)\u001b[0m       Epoch    GPU_mem   box_loss   cls_loss   dfl_loss  Instances       Size\n"
     ]
    },
    {
     "name": "stderr",
     "output_type": "stream",
     "text": [
      "  0%|          | 0/44 [00:00<?, ?it/s]\n",
      "        1/1      2.28G      0.643      1.743     0.8688         48        640:   2%|▏         | 1/44 [00:01<00:45,  1.05s/it]\n",
      "        1/1      2.28G     0.7131      1.948     0.9201         53        640:   5%|▍         | 2/44 [00:01<00:23,  1.80it/s]\n",
      "        1/1      2.28G     0.6728      1.852     0.9056         34        640:   7%|▋         | 3/44 [00:01<00:16,  2.51it/s]\n",
      "        1/1      2.28G     0.7435      2.033     0.9152         65        640:   9%|▉         | 4/44 [00:01<00:12,  3.09it/s]\n",
      "        1/1      2.31G     0.7004      2.007     0.9078         32        640:  11%|█▏        | 5/44 [00:01<00:11,  3.38it/s]\n",
      "        1/1      2.31G      0.705      2.044     0.9008         49        640:  14%|█▎        | 6/44 [00:02<00:09,  4.07it/s]\n",
      "        1/1      2.31G     0.7051      2.071     0.9008         42        640:  16%|█▌        | 7/44 [00:02<00:07,  4.63it/s]\n",
      "        1/1      2.31G     0.7138      2.151     0.9161         43        640:  18%|█▊        | 8/44 [00:02<00:06,  5.18it/s]\n",
      "        1/1      2.31G     0.7411      2.206     0.9239         60        640:  20%|██        | 9/44 [00:02<00:06,  5.62it/s]\n",
      "        1/1      2.31G     0.7459       2.19     0.9293         57        640:  23%|██▎       | 10/44 [00:02<00:05,  5.98it/s]\n",
      "        1/1      2.31G     0.7428      2.184      0.922         37        640:  25%|██▌       | 11/44 [00:02<00:05,  6.24it/s]\n",
      "        1/1      2.31G     0.7524      2.212      0.924         57        640:  27%|██▋       | 12/44 [00:02<00:05,  6.40it/s]\n",
      "        1/1      2.31G     0.7419       2.18     0.9235         40        640:  30%|██▉       | 13/44 [00:03<00:04,  6.51it/s]\n",
      "        1/1      2.31G      0.739      2.166     0.9236         41        640:  32%|███▏      | 14/44 [00:03<00:04,  6.65it/s]\n",
      "        1/1      2.31G     0.7391      2.174     0.9215         48        640:  34%|███▍      | 15/44 [00:03<00:04,  6.74it/s]\n",
      "        1/1      2.31G     0.7358      2.164     0.9203         49        640:  36%|███▋      | 16/44 [00:03<00:04,  6.82it/s]\n",
      "        1/1      2.31G     0.7434      2.172     0.9189         50        640:  39%|███▊      | 17/44 [00:03<00:03,  6.85it/s]\n",
      "        1/1      2.31G     0.7456      2.186     0.9204         54        640:  41%|████      | 18/44 [00:03<00:03,  6.82it/s]\n",
      "        1/1      2.31G     0.7446      2.171     0.9195         49        640:  43%|████▎     | 19/44 [00:03<00:03,  6.86it/s]\n",
      "        1/1      2.31G     0.7406      2.155      0.919         43        640:  45%|████▌     | 20/44 [00:04<00:03,  6.89it/s]\n",
      "        1/1      2.31G     0.7394      2.137     0.9212         50        640:  48%|████▊     | 21/44 [00:04<00:03,  6.91it/s]\n",
      "        1/1      2.31G     0.7308      2.122     0.9194         26        640:  50%|█████     | 22/44 [00:04<00:03,  6.92it/s]\n",
      "        1/1      2.31G     0.7362      2.111     0.9195         57        640:  52%|█████▏    | 23/44 [00:04<00:02,  7.18it/s]\n",
      "        1/1      2.32G     0.7298      2.089     0.9184         43        640:  55%|█████▍    | 24/44 [00:04<00:02,  7.02it/s]\n",
      "        1/1      2.32G     0.7308      2.081     0.9195         35        640:  57%|█████▋    | 25/44 [00:04<00:02,  7.22it/s]\n",
      "        1/1      2.32G     0.7336      2.072     0.9219         67        640:  59%|█████▉    | 26/44 [00:04<00:02,  7.10it/s]\n",
      "        1/1      2.32G     0.7347      2.057     0.9207         31        640:  61%|██████▏   | 27/44 [00:05<00:02,  7.32it/s]\n",
      "        1/1      2.32G     0.7372      2.048     0.9216         45        640:  64%|██████▎   | 28/44 [00:05<00:02,  7.16it/s]\n",
      "        1/1      2.32G     0.7361      2.037     0.9219         28        640:  66%|██████▌   | 29/44 [00:05<00:02,  7.39it/s]\n",
      "        1/1      2.32G     0.7325      2.017     0.9204         30        640:  68%|██████▊   | 30/44 [00:05<00:01,  7.27it/s]\n",
      "        1/1      2.32G     0.7345          2     0.9217         47        640:  70%|███████   | 31/44 [00:05<00:01,  7.23it/s]\n",
      "        1/1      2.32G     0.7363       1.99     0.9204         40        640:  73%|███████▎  | 32/44 [00:05<00:01,  7.16it/s]\n",
      "        1/1      2.32G     0.7323      1.968     0.9188         35        640:  75%|███████▌  | 33/44 [00:05<00:01,  7.40it/s]\n",
      "        1/1      2.32G     0.7311      1.953     0.9178         54        640:  77%|███████▋  | 34/44 [00:06<00:01,  7.19it/s]\n",
      "        1/1      2.32G     0.7257      1.939      0.918         28        640:  80%|███████▉  | 35/44 [00:06<00:01,  7.36it/s]\n",
      "        1/1      2.32G     0.7309      1.931     0.9178         48        640:  82%|████████▏ | 36/44 [00:06<00:01,  7.27it/s]\n",
      "        1/1      2.32G     0.7263      1.917     0.9176         30        640:  84%|████████▍ | 37/44 [00:06<00:00,  7.48it/s]\n",
      "        1/1      2.32G     0.7259      1.909     0.9203         27        640:  86%|████████▋ | 38/44 [00:06<00:00,  7.38it/s]\n",
      "        1/1      2.32G     0.7297      1.902       0.92         37        640:  89%|████████▊ | 39/44 [00:06<00:00,  7.47it/s]\n",
      "        1/1      2.32G      0.725      1.884     0.9185         35        640:  91%|█████████ | 40/44 [00:06<00:00,  7.29it/s]\n",
      "        1/1      2.32G     0.7254      1.872     0.9194         45        640:  93%|█████████▎| 41/44 [00:06<00:00,  7.47it/s]\n",
      "        1/1      2.32G     0.7253      1.865     0.9203         32        640:  95%|█████████▌| 42/44 [00:07<00:00,  7.23it/s]\n",
      "        1/1      2.32G     0.7233       1.86     0.9202         28        640:  98%|█████████▊| 43/44 [00:07<00:00,  7.37it/s]\n",
      "        1/1      2.37G     0.7265      1.861      0.921         10        640: 100%|██████████| 44/44 [00:07<00:00,  5.79it/s]\n",
      "                 Class     Images  Instances      Box(P          R      mAP50  mAP50-95):   0%|          | 0/6 [00:00<?, ?it/s]\n",
      "                 Class     Images  Instances      Box(P          R      mAP50  mAP50-95):  17%|█▋        | 1/6 [00:00<00:01,  3.31it/s]\n",
      "                 Class     Images  Instances      Box(P          R      mAP50  mAP50-95):  33%|███▎      | 2/6 [00:00<00:01,  3.34it/s]\n",
      "                 Class     Images  Instances      Box(P          R      mAP50  mAP50-95):  50%|█████     | 3/6 [00:00<00:00,  3.18it/s]\n",
      "                 Class     Images  Instances      Box(P          R      mAP50  mAP50-95):  67%|██████▋   | 4/6 [00:01<00:00,  3.46it/s]\n",
      "                 Class     Images  Instances      Box(P          R      mAP50  mAP50-95):  83%|████████▎ | 5/6 [00:01<00:00,  3.84it/s]\n",
      "                 Class     Images  Instances      Box(P          R      mAP50  mAP50-95): 100%|██████████| 6/6 [00:01<00:00,  3.85it/s]\n"
     ]
    },
    {
     "name": "stdout",
     "output_type": "stream",
     "text": [
      "\u001b[36m(ClientAppActor pid=6270)\u001b[0m                    all        184        254      0.997       0.38      0.804      0.671\n",
      "\u001b[36m(ClientAppActor pid=6270)\u001b[0m \n",
      "\u001b[36m(ClientAppActor pid=6270)\u001b[0m 1 epochs completed in 0.003 hours.\n",
      "\u001b[36m(ClientAppActor pid=6270)\u001b[0m Optimizer stripped from runs/detect/train10/weights/last.pt, 6.2MB\n",
      "\u001b[36m(ClientAppActor pid=6270)\u001b[0m Optimizer stripped from runs/detect/train10/weights/best.pt, 6.2MB\n",
      "\u001b[36m(ClientAppActor pid=6270)\u001b[0m \n",
      "\u001b[36m(ClientAppActor pid=6270)\u001b[0m Validating runs/detect/train10/weights/best.pt...\n",
      "\u001b[36m(ClientAppActor pid=6270)\u001b[0m Ultralytics YOLOv8.2.32 🚀 Python-3.11.9 torch-2.3.1+cu121 CUDA:0 (NVIDIA GeForce RTX 2060, 5919MiB)\n",
      "\u001b[36m(ClientAppActor pid=6270)\u001b[0m Model summary (fused): 168 layers, 3008963 parameters, 0 gradients, 8.1 GFLOPs\n"
     ]
    },
    {
     "name": "stderr",
     "output_type": "stream",
     "text": [
      "                 Class     Images  Instances      Box(P          R      mAP50  mAP50-95):   0%|          | 0/6 [00:00<?, ?it/s]\n",
      "                 Class     Images  Instances      Box(P          R      mAP50  mAP50-95):  17%|█▋        | 1/6 [00:00<00:00,  6.79it/s]\n",
      "                 Class     Images  Instances      Box(P          R      mAP50  mAP50-95):  33%|███▎      | 2/6 [00:00<00:00,  6.00it/s]\n",
      "                 Class     Images  Instances      Box(P          R      mAP50  mAP50-95):  50%|█████     | 3/6 [00:00<00:00,  3.46it/s]\n",
      "                 Class     Images  Instances      Box(P          R      mAP50  mAP50-95):  67%|██████▋   | 4/6 [00:01<00:00,  2.70it/s]\n",
      "                 Class     Images  Instances      Box(P          R      mAP50  mAP50-95):  83%|████████▎ | 5/6 [00:01<00:00,  3.62it/s]\n",
      "                 Class     Images  Instances      Box(P          R      mAP50  mAP50-95): 100%|██████████| 6/6 [00:01<00:00,  4.13it/s]\n"
     ]
    },
    {
     "name": "stdout",
     "output_type": "stream",
     "text": [
      "\u001b[36m(ClientAppActor pid=6270)\u001b[0m                    all        184        254      0.997       0.38      0.804      0.671\n",
      "\u001b[36m(ClientAppActor pid=6270)\u001b[0m          traffic light         24         39          1      0.337      0.746      0.502\n",
      "\u001b[36m(ClientAppActor pid=6270)\u001b[0m              stop sign         21         21      0.986      0.952      0.958      0.872\n",
      "\u001b[36m(ClientAppActor pid=6270)\u001b[0m        speedlimit sign        140        161          1     0.0921      0.983      0.848\n",
      "\u001b[36m(ClientAppActor pid=6270)\u001b[0m              crosswalk         31         33          1      0.139      0.527      0.462\n",
      "\u001b[36m(ClientAppActor pid=6270)\u001b[0m Speed: 0.2ms preprocess, 2.0ms inference, 0.0ms loss, 2.6ms postprocess per image\n",
      "\u001b[36m(ClientAppActor pid=6270)\u001b[0m Results saved to \u001b[1mruns/detect/train10\u001b[0m\n",
      "\u001b[36m(ClientAppActor pid=6270)\u001b[0m Ultralytics YOLOv8.2.32 🚀 Python-3.11.9 torch-2.3.1+cu121 CUDA:0 (NVIDIA GeForce RTX 2060, 5919MiB)\n",
      "\u001b[36m(ClientAppActor pid=6270)\u001b[0m \u001b[34m\u001b[1mengine/trainer: \u001b[0mtask=detect, mode=train, model=runs/detect/train5/weights/best.pt, data=datasets/roadsigns/config.yaml, epochs=1, time=None, patience=100, batch=16, imgsz=640, save=True, save_period=-1, cache=False, device=None, workers=8, project=None, name=train11, exist_ok=False, pretrained=True, optimizer=auto, verbose=True, seed=0, deterministic=True, single_cls=False, rect=False, cos_lr=False, close_mosaic=10, resume=False, amp=True, fraction=1.0, profile=False, freeze=None, multi_scale=False, overlap_mask=True, mask_ratio=4, dropout=0.0, val=True, split=val, save_json=False, save_hybrid=False, conf=None, iou=0.7, max_det=300, half=False, dnn=False, plots=True, source=None, vid_stride=1, stream_buffer=False, visualize=False, augment=False, agnostic_nms=False, classes=None, retina_masks=False, embed=None, show=False, save_frames=False, save_txt=False, save_conf=False, save_crop=False, show_labels=True, show_conf=True, show_boxes=True, line_width=None, format=torchscript, keras=False, optimize=False, int8=False, dynamic=False, simplify=False, opset=None, workspace=4, nms=False, lr0=0.01, lrf=0.01, momentum=0.937, weight_decay=0.0005, warmup_epochs=3.0, warmup_momentum=0.8, warmup_bias_lr=0.1, box=7.5, cls=0.5, dfl=1.5, pose=12.0, kobj=1.0, label_smoothing=0.0, nbs=64, hsv_h=0.015, hsv_s=0.7, hsv_v=0.4, degrees=0.0, translate=0.1, scale=0.5, shear=0.0, perspective=0.0, flipud=0.0, fliplr=0.5, bgr=0.0, mosaic=1.0, mixup=0.0, copy_paste=0.0, auto_augment=randaugment, erasing=0.4, crop_fraction=1.0, cfg=None, tracker=botsort.yaml, save_dir=runs/detect/train11\n",
      "\u001b[36m(ClientAppActor pid=6270)\u001b[0m \n",
      "\u001b[36m(ClientAppActor pid=6270)\u001b[0m                    from  n    params  module                                       arguments                     \n",
      "\u001b[36m(ClientAppActor pid=6270)\u001b[0m   0                  -1  1       464  ultralytics.nn.modules.conv.Conv             [3, 16, 3, 2]                 \n",
      "\u001b[36m(ClientAppActor pid=6270)\u001b[0m   1                  -1  1      4672  ultralytics.nn.modules.conv.Conv             [16, 32, 3, 2]                \n",
      "\u001b[36m(ClientAppActor pid=6270)\u001b[0m   2                  -1  1      7360  ultralytics.nn.modules.block.C2f             [32, 32, 1, True]             \n",
      "\u001b[36m(ClientAppActor pid=6270)\u001b[0m   3                  -1  1     18560  ultralytics.nn.modules.conv.Conv             [32, 64, 3, 2]                \n",
      "\u001b[36m(ClientAppActor pid=6270)\u001b[0m   4                  -1  2     49664  ultralytics.nn.modules.block.C2f             [64, 64, 2, True]             \n",
      "\u001b[36m(ClientAppActor pid=6270)\u001b[0m   5                  -1  1     73984  ultralytics.nn.modules.conv.Conv             [64, 128, 3, 2]               \n",
      "\u001b[36m(ClientAppActor pid=6270)\u001b[0m   6                  -1  2    197632  ultralytics.nn.modules.block.C2f             [128, 128, 2, True]           \n",
      "\u001b[36m(ClientAppActor pid=6270)\u001b[0m   7                  -1  1    295424  ultralytics.nn.modules.conv.Conv             [128, 256, 3, 2]              \n",
      "\u001b[36m(ClientAppActor pid=6270)\u001b[0m   8                  -1  1    460288  ultralytics.nn.modules.block.C2f             [256, 256, 1, True]           \n",
      "\u001b[36m(ClientAppActor pid=6270)\u001b[0m   9                  -1  1    164608  ultralytics.nn.modules.block.SPPF            [256, 256, 5]                 \n",
      "\u001b[36m(ClientAppActor pid=6270)\u001b[0m  10                  -1  1         0  torch.nn.modules.upsampling.Upsample         [None, 2, 'nearest']          \n",
      "\u001b[36m(ClientAppActor pid=6270)\u001b[0m  11             [-1, 6]  1         0  ultralytics.nn.modules.conv.Concat           [1]                           \n",
      "\u001b[36m(ClientAppActor pid=6270)\u001b[0m  12                  -1  1    148224  ultralytics.nn.modules.block.C2f             [384, 128, 1]                 \n",
      "\u001b[36m(ClientAppActor pid=6270)\u001b[0m  13                  -1  1         0  torch.nn.modules.upsampling.Upsample         [None, 2, 'nearest']          \n",
      "\u001b[36m(ClientAppActor pid=6270)\u001b[0m  14             [-1, 4]  1         0  ultralytics.nn.modules.conv.Concat           [1]                           \n",
      "\u001b[36m(ClientAppActor pid=6270)\u001b[0m  15                  -1  1     37248  ultralytics.nn.modules.block.C2f             [192, 64, 1]                  \n",
      "\u001b[36m(ClientAppActor pid=6270)\u001b[0m  16                  -1  1     36992  ultralytics.nn.modules.conv.Conv             [64, 64, 3, 2]                \n",
      "\u001b[36m(ClientAppActor pid=6270)\u001b[0m  17            [-1, 12]  1         0  ultralytics.nn.modules.conv.Concat           [1]                           \n",
      "\u001b[36m(ClientAppActor pid=6270)\u001b[0m  18                  -1  1    123648  ultralytics.nn.modules.block.C2f             [192, 128, 1]                 \n",
      "\u001b[36m(ClientAppActor pid=6270)\u001b[0m  19                  -1  1    147712  ultralytics.nn.modules.conv.Conv             [128, 128, 3, 2]              \n",
      "\u001b[36m(ClientAppActor pid=6270)\u001b[0m  20             [-1, 9]  1         0  ultralytics.nn.modules.conv.Concat           [1]                           \n",
      "\u001b[36m(ClientAppActor pid=6270)\u001b[0m  21                  -1  1    493056  ultralytics.nn.modules.block.C2f             [384, 256, 1]                 \n",
      "\u001b[36m(ClientAppActor pid=6270)\u001b[0m  22        [15, 18, 21]  1    754627  ultralytics.nn.modules.head.Detect           [17, [64, 128, 256]]          \n",
      "\u001b[36m(ClientAppActor pid=6270)\u001b[0m Model summary: 225 layers, 3014163 parameters, 3014147 gradients, 8.2 GFLOPs\n",
      "\u001b[36m(ClientAppActor pid=6270)\u001b[0m \n",
      "\u001b[36m(ClientAppActor pid=6270)\u001b[0m Transferred 355/355 items from pretrained weights\n",
      "\u001b[36m(ClientAppActor pid=6270)\u001b[0m Freezing layer 'model.22.dfl.conv.weight'\n",
      "\u001b[36m(ClientAppActor pid=6270)\u001b[0m \u001b[34m\u001b[1mAMP: \u001b[0mrunning Automatic Mixed Precision (AMP) checks with YOLOv8n...\n",
      "\u001b[36m(ClientAppActor pid=6270)\u001b[0m \u001b[34m\u001b[1mAMP: \u001b[0mchecks passed ✅\n"
     ]
    },
    {
     "name": "stderr",
     "output_type": "stream",
     "text": [
      "\u001b[34m\u001b[1mtrain: \u001b[0mScanning /home/pierre/git/newEdge/datasets/roadsigns/labels/train.cache... 693 images, 0 backgrounds, 0 corrupt: 100%|██████████| 693/693 [00:00<?, ?it/s]\n",
      "\u001b[34m\u001b[1mval: \u001b[0mScanning /home/pierre/git/newEdge/datasets/roadsigns/labels/val.cache... 184 images, 0 backgrounds, 0 corrupt: 100%|██████████| 184/184 [00:00<?, ?it/s]\n"
     ]
    },
    {
     "name": "stdout",
     "output_type": "stream",
     "text": [
      "\u001b[36m(ClientAppActor pid=6270)\u001b[0m Plotting labels to runs/detect/train11/labels.jpg... \n"
     ]
    }
   ],
   "source": [
    "strategy = flwr.server.strategy.FedAvg()\n",
    "client_resources = {\"num_cpus\": 1, \"num_gpus\": 1.0}\n",
    "\n",
    "flwr.simulation.start_simulation(\n",
    "    client_fn=client_fn,\n",
    "    num_clients=NUM_CLIENTS,\n",
    "    config=flwr.server.ServerConfig(num_rounds=1),\n",
    "    strategy=strategy,\n",
    "    client_resources=client_resources,\n",
    ")"
   ]
  }
 ],
 "metadata": {
  "kernelspec": {
   "display_name": "base",
   "language": "python",
   "name": "python3"
  },
  "language_info": {
   "codemirror_mode": {
    "name": "ipython",
    "version": 3
   },
   "file_extension": ".py",
   "mimetype": "text/x-python",
   "name": "python",
   "nbconvert_exporter": "python",
   "pygments_lexer": "ipython3",
   "version": "3.11.9"
  }
 },
 "nbformat": 4,
 "nbformat_minor": 2
}
