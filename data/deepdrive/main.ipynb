{
 "cells": [
  {
   "cell_type": "code",
   "execution_count": 1,
   "metadata": {},
   "outputs": [],
   "source": [
    "import json\n",
    "import cv2"
   ]
  },
  {
   "cell_type": "code",
   "execution_count": 2,
   "metadata": {},
   "outputs": [],
   "source": [
    "with open('annotations/det_20/det_train.json') as json_file:\n",
    "    data = json.load(json_file)"
   ]
  },
  {
   "cell_type": "code",
   "execution_count": 3,
   "metadata": {},
   "outputs": [
    {
     "name": "stdout",
     "output_type": "stream",
     "text": [
      "13 ['trailer', 'traffic light', 'traffic sign', 'car', 'bicycle', 'bus', 'rider', 'train', 'pedestrian', 'truck', 'other vehicle', 'other person', 'motorcycle']\n"
     ]
    }
   ],
   "source": [
    "categories = [] \n",
    "for item in data:\n",
    "    try:\n",
    "        for label in item['labels']:\n",
    "            categories.append(label['category'])\n",
    "    except KeyError:  \n",
    "        continue\n",
    "categories = list(set(categories))\n",
    "print(len(categories), categories)"
   ]
  },
  {
   "cell_type": "code",
   "execution_count": 4,
   "metadata": {},
   "outputs": [],
   "source": [
    "def show_img(idx):\n",
    "    image_name = data[idx]['name']\n",
    "    image = cv2.imread('images/train/'  + image_name)\n",
    "    for label in data[idx]['labels']:\n",
    "        x1 = int(label['box2d']['x1'])\n",
    "        y1 = int(label['box2d']['y1'])\n",
    "        x2 = int(label['box2d']['x2'])\n",
    "        y2 = int(label['box2d']['y2'])\n",
    "\n",
    "        # Draw the bounding box rectangle\n",
    "        cv2.rectangle(image, (x1, y1), (x2, y2), (0, 255, 0), 2)\n",
    "\n",
    "        # Display the category name above the bounding box\n",
    "        category = label['category']\n",
    "        cv2.putText(image, category, (x1, y1 - 10), cv2.FONT_HERSHEY_SIMPLEX, 0.5, (0, 255, 0), 2)\n",
    "    cv2.imshow(image_name, image)\n",
    "    cv2.waitKey(0)\n",
    "    cv2.destroyAllWindows()"
   ]
  },
  {
   "cell_type": "code",
   "execution_count": 5,
   "metadata": {},
   "outputs": [],
   "source": [
    "def show_img_for_category(category):\n",
    "    for idx, item in enumerate(data):\n",
    "        try:\n",
    "            for label in item['labels']:\n",
    "                if label['category'] == category:\n",
    "                    show_img(idx)\n",
    "                    return  \n",
    "        except KeyError:\n",
    "            continue\n",
    "    print(f'No resuluts for {category}')"
   ]
  },
  {
   "cell_type": "code",
   "execution_count": 6,
   "metadata": {},
   "outputs": [],
   "source": [
    "# show_img_for_category('other person')\n",
    "# show_img_for_category('other vehicle')\n",
    "# show_img(2)"
   ]
  }
 ],
 "metadata": {
  "kernelspec": {
   "display_name": "base",
   "language": "python",
   "name": "python3"
  },
  "language_info": {
   "codemirror_mode": {
    "name": "ipython",
    "version": 3
   },
   "file_extension": ".py",
   "mimetype": "text/x-python",
   "name": "python",
   "nbconvert_exporter": "python",
   "pygments_lexer": "ipython3",
   "version": "3.12.3"
  }
 },
 "nbformat": 4,
 "nbformat_minor": 2
}
